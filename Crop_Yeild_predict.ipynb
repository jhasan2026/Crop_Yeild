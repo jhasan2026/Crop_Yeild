{
 "cells": [
  {
   "cell_type": "code",
   "id": "initial_id",
   "metadata": {
    "collapsed": true,
    "ExecuteTime": {
     "end_time": "2024-12-27T15:22:27.878877Z",
     "start_time": "2024-12-27T15:22:27.866215Z"
    }
   },
   "source": [
    "import pandas as pd\n",
    "import numpy as np"
   ],
   "outputs": [],
   "execution_count": 79
  },
  {
   "metadata": {
    "ExecuteTime": {
     "end_time": "2024-12-27T15:22:27.940469Z",
     "start_time": "2024-12-27T15:22:27.879392Z"
    }
   },
   "cell_type": "code",
   "source": [
    "df = pd.read_csv('Final_crop_yield_dataset.csv')\n",
    "df"
   ],
   "id": "657a5285568572be",
   "outputs": [
    {
     "data": {
      "text/plain": [
       "             Date  Crop_Type Soil_Type  Soil_pH  Temperature   Humidity  \\\n",
       "0      2014-01-01      Wheat     Peaty     5.50     9.440599  80.000000   \n",
       "1      2014-01-01       Corn     Loamy     6.50    20.052576  79.947424   \n",
       "2      2014-01-01       Rice     Peaty     5.50    12.143099  80.000000   \n",
       "3      2014-01-01     Barley     Sandy     6.75    19.751848  80.000000   \n",
       "4      2014-01-01    Soybean     Peaty     5.50    16.110395  80.000000   \n",
       "...           ...        ...       ...      ...          ...        ...   \n",
       "36515  2023-12-31     Cotton      Clay     6.25    19.538555  80.000000   \n",
       "36516  2023-12-31  Sugarcane     Peaty     5.50    21.068336  78.931664   \n",
       "36517  2023-12-31     Tomato     Sandy     6.75     6.030148  80.000000   \n",
       "36518  2023-12-31     Potato     Peaty     5.50    11.079561  80.000000   \n",
       "36519  2023-12-31  Sunflower      Clay     6.25    11.455692  80.000000   \n",
       "\n",
       "       Wind_Speed     N     P     K  Crop_Yield  Soil_Quality  \n",
       "0       10.956707  60.5  45.0  31.5    0.000000     22.833333  \n",
       "1        8.591577  84.0  66.0  50.0  104.871310     66.666667  \n",
       "2        7.227751  71.5  54.0  38.5    0.000000     27.333333  \n",
       "3        2.682683  50.0  40.0  30.0   58.939796     35.000000  \n",
       "4        7.696070  49.5  45.0  38.5   32.970413     22.166667  \n",
       "...           ...   ...   ...   ...         ...           ...  \n",
       "36515    3.666664  66.0  55.0  48.0   73.323885     49.291667  \n",
       "36516    8.795036  71.5  54.0  42.0   39.226521     27.916667  \n",
       "36517    9.409497  50.0  36.0  30.0    0.000000     33.833333  \n",
       "36518   10.969366  60.5  45.0  31.5    6.067881     22.833333  \n",
       "36519    5.394758  60.0  55.0  44.0   11.825986     46.375000  \n",
       "\n",
       "[36520 rows x 12 columns]"
      ],
      "text/html": [
       "<div>\n",
       "<style scoped>\n",
       "    .dataframe tbody tr th:only-of-type {\n",
       "        vertical-align: middle;\n",
       "    }\n",
       "\n",
       "    .dataframe tbody tr th {\n",
       "        vertical-align: top;\n",
       "    }\n",
       "\n",
       "    .dataframe thead th {\n",
       "        text-align: right;\n",
       "    }\n",
       "</style>\n",
       "<table border=\"1\" class=\"dataframe\">\n",
       "  <thead>\n",
       "    <tr style=\"text-align: right;\">\n",
       "      <th></th>\n",
       "      <th>Date</th>\n",
       "      <th>Crop_Type</th>\n",
       "      <th>Soil_Type</th>\n",
       "      <th>Soil_pH</th>\n",
       "      <th>Temperature</th>\n",
       "      <th>Humidity</th>\n",
       "      <th>Wind_Speed</th>\n",
       "      <th>N</th>\n",
       "      <th>P</th>\n",
       "      <th>K</th>\n",
       "      <th>Crop_Yield</th>\n",
       "      <th>Soil_Quality</th>\n",
       "    </tr>\n",
       "  </thead>\n",
       "  <tbody>\n",
       "    <tr>\n",
       "      <th>0</th>\n",
       "      <td>2014-01-01</td>\n",
       "      <td>Wheat</td>\n",
       "      <td>Peaty</td>\n",
       "      <td>5.50</td>\n",
       "      <td>9.440599</td>\n",
       "      <td>80.000000</td>\n",
       "      <td>10.956707</td>\n",
       "      <td>60.5</td>\n",
       "      <td>45.0</td>\n",
       "      <td>31.5</td>\n",
       "      <td>0.000000</td>\n",
       "      <td>22.833333</td>\n",
       "    </tr>\n",
       "    <tr>\n",
       "      <th>1</th>\n",
       "      <td>2014-01-01</td>\n",
       "      <td>Corn</td>\n",
       "      <td>Loamy</td>\n",
       "      <td>6.50</td>\n",
       "      <td>20.052576</td>\n",
       "      <td>79.947424</td>\n",
       "      <td>8.591577</td>\n",
       "      <td>84.0</td>\n",
       "      <td>66.0</td>\n",
       "      <td>50.0</td>\n",
       "      <td>104.871310</td>\n",
       "      <td>66.666667</td>\n",
       "    </tr>\n",
       "    <tr>\n",
       "      <th>2</th>\n",
       "      <td>2014-01-01</td>\n",
       "      <td>Rice</td>\n",
       "      <td>Peaty</td>\n",
       "      <td>5.50</td>\n",
       "      <td>12.143099</td>\n",
       "      <td>80.000000</td>\n",
       "      <td>7.227751</td>\n",
       "      <td>71.5</td>\n",
       "      <td>54.0</td>\n",
       "      <td>38.5</td>\n",
       "      <td>0.000000</td>\n",
       "      <td>27.333333</td>\n",
       "    </tr>\n",
       "    <tr>\n",
       "      <th>3</th>\n",
       "      <td>2014-01-01</td>\n",
       "      <td>Barley</td>\n",
       "      <td>Sandy</td>\n",
       "      <td>6.75</td>\n",
       "      <td>19.751848</td>\n",
       "      <td>80.000000</td>\n",
       "      <td>2.682683</td>\n",
       "      <td>50.0</td>\n",
       "      <td>40.0</td>\n",
       "      <td>30.0</td>\n",
       "      <td>58.939796</td>\n",
       "      <td>35.000000</td>\n",
       "    </tr>\n",
       "    <tr>\n",
       "      <th>4</th>\n",
       "      <td>2014-01-01</td>\n",
       "      <td>Soybean</td>\n",
       "      <td>Peaty</td>\n",
       "      <td>5.50</td>\n",
       "      <td>16.110395</td>\n",
       "      <td>80.000000</td>\n",
       "      <td>7.696070</td>\n",
       "      <td>49.5</td>\n",
       "      <td>45.0</td>\n",
       "      <td>38.5</td>\n",
       "      <td>32.970413</td>\n",
       "      <td>22.166667</td>\n",
       "    </tr>\n",
       "    <tr>\n",
       "      <th>...</th>\n",
       "      <td>...</td>\n",
       "      <td>...</td>\n",
       "      <td>...</td>\n",
       "      <td>...</td>\n",
       "      <td>...</td>\n",
       "      <td>...</td>\n",
       "      <td>...</td>\n",
       "      <td>...</td>\n",
       "      <td>...</td>\n",
       "      <td>...</td>\n",
       "      <td>...</td>\n",
       "      <td>...</td>\n",
       "    </tr>\n",
       "    <tr>\n",
       "      <th>36515</th>\n",
       "      <td>2023-12-31</td>\n",
       "      <td>Cotton</td>\n",
       "      <td>Clay</td>\n",
       "      <td>6.25</td>\n",
       "      <td>19.538555</td>\n",
       "      <td>80.000000</td>\n",
       "      <td>3.666664</td>\n",
       "      <td>66.0</td>\n",
       "      <td>55.0</td>\n",
       "      <td>48.0</td>\n",
       "      <td>73.323885</td>\n",
       "      <td>49.291667</td>\n",
       "    </tr>\n",
       "    <tr>\n",
       "      <th>36516</th>\n",
       "      <td>2023-12-31</td>\n",
       "      <td>Sugarcane</td>\n",
       "      <td>Peaty</td>\n",
       "      <td>5.50</td>\n",
       "      <td>21.068336</td>\n",
       "      <td>78.931664</td>\n",
       "      <td>8.795036</td>\n",
       "      <td>71.5</td>\n",
       "      <td>54.0</td>\n",
       "      <td>42.0</td>\n",
       "      <td>39.226521</td>\n",
       "      <td>27.916667</td>\n",
       "    </tr>\n",
       "    <tr>\n",
       "      <th>36517</th>\n",
       "      <td>2023-12-31</td>\n",
       "      <td>Tomato</td>\n",
       "      <td>Sandy</td>\n",
       "      <td>6.75</td>\n",
       "      <td>6.030148</td>\n",
       "      <td>80.000000</td>\n",
       "      <td>9.409497</td>\n",
       "      <td>50.0</td>\n",
       "      <td>36.0</td>\n",
       "      <td>30.0</td>\n",
       "      <td>0.000000</td>\n",
       "      <td>33.833333</td>\n",
       "    </tr>\n",
       "    <tr>\n",
       "      <th>36518</th>\n",
       "      <td>2023-12-31</td>\n",
       "      <td>Potato</td>\n",
       "      <td>Peaty</td>\n",
       "      <td>5.50</td>\n",
       "      <td>11.079561</td>\n",
       "      <td>80.000000</td>\n",
       "      <td>10.969366</td>\n",
       "      <td>60.5</td>\n",
       "      <td>45.0</td>\n",
       "      <td>31.5</td>\n",
       "      <td>6.067881</td>\n",
       "      <td>22.833333</td>\n",
       "    </tr>\n",
       "    <tr>\n",
       "      <th>36519</th>\n",
       "      <td>2023-12-31</td>\n",
       "      <td>Sunflower</td>\n",
       "      <td>Clay</td>\n",
       "      <td>6.25</td>\n",
       "      <td>11.455692</td>\n",
       "      <td>80.000000</td>\n",
       "      <td>5.394758</td>\n",
       "      <td>60.0</td>\n",
       "      <td>55.0</td>\n",
       "      <td>44.0</td>\n",
       "      <td>11.825986</td>\n",
       "      <td>46.375000</td>\n",
       "    </tr>\n",
       "  </tbody>\n",
       "</table>\n",
       "<p>36520 rows × 12 columns</p>\n",
       "</div>"
      ]
     },
     "execution_count": 80,
     "metadata": {},
     "output_type": "execute_result"
    }
   ],
   "execution_count": 80
  },
  {
   "metadata": {
    "ExecuteTime": {
     "end_time": "2024-12-27T15:22:27.944140Z",
     "start_time": "2024-12-27T15:22:27.940469Z"
    }
   },
   "cell_type": "code",
   "source": [
    "from sklearn.preprocessing import StandardScaler, OneHotEncoder\n",
    "from sklearn.compose import ColumnTransformer\n",
    "from sklearn.pipeline import Pipeline\n",
    "from sklearn.tree import DecisionTreeRegressor"
   ],
   "id": "36a9908460150ca6",
   "outputs": [],
   "execution_count": 81
  },
  {
   "metadata": {
    "ExecuteTime": {
     "end_time": "2024-12-27T15:22:27.954015Z",
     "start_time": "2024-12-27T15:22:27.944140Z"
    }
   },
   "cell_type": "code",
   "source": "df.isnull().mean()*100",
   "id": "768e03888e99cdf1",
   "outputs": [
    {
     "data": {
      "text/plain": [
       "Date            0.0\n",
       "Crop_Type       0.0\n",
       "Soil_Type       0.0\n",
       "Soil_pH         0.0\n",
       "Temperature     0.0\n",
       "Humidity        0.0\n",
       "Wind_Speed      0.0\n",
       "N               0.0\n",
       "P               0.0\n",
       "K               0.0\n",
       "Crop_Yield      0.0\n",
       "Soil_Quality    0.0\n",
       "dtype: float64"
      ]
     },
     "execution_count": 82,
     "metadata": {},
     "output_type": "execute_result"
    }
   ],
   "execution_count": 82
  },
  {
   "metadata": {
    "ExecuteTime": {
     "end_time": "2024-12-27T15:22:27.972422Z",
     "start_time": "2024-12-27T15:22:27.954015Z"
    }
   },
   "cell_type": "code",
   "source": "df.duplicated().sum()",
   "id": "a27f01e7b8ffc202",
   "outputs": [
    {
     "data": {
      "text/plain": [
       "0"
      ]
     },
     "execution_count": 83,
     "metadata": {},
     "output_type": "execute_result"
    }
   ],
   "execution_count": 83
  },
  {
   "metadata": {
    "ExecuteTime": {
     "end_time": "2024-12-27T15:22:27.977448Z",
     "start_time": "2024-12-27T15:22:27.972422Z"
    }
   },
   "cell_type": "code",
   "source": "df = df.drop(columns=['Date','Soil_Type','Soil_Quality','Wind_Speed','N','P','K'])",
   "id": "3c2cc1cf948671cc",
   "outputs": [],
   "execution_count": 84
  },
  {
   "metadata": {
    "ExecuteTime": {
     "end_time": "2024-12-27T15:22:27.986965Z",
     "start_time": "2024-12-27T15:22:27.977448Z"
    }
   },
   "cell_type": "code",
   "source": "df",
   "id": "834dd7ccc57ac6fb",
   "outputs": [
    {
     "data": {
      "text/plain": [
       "       Crop_Type  Soil_pH  Temperature   Humidity  Crop_Yield\n",
       "0          Wheat     5.50     9.440599  80.000000    0.000000\n",
       "1           Corn     6.50    20.052576  79.947424  104.871310\n",
       "2           Rice     5.50    12.143099  80.000000    0.000000\n",
       "3         Barley     6.75    19.751848  80.000000   58.939796\n",
       "4        Soybean     5.50    16.110395  80.000000   32.970413\n",
       "...          ...      ...          ...        ...         ...\n",
       "36515     Cotton     6.25    19.538555  80.000000   73.323885\n",
       "36516  Sugarcane     5.50    21.068336  78.931664   39.226521\n",
       "36517     Tomato     6.75     6.030148  80.000000    0.000000\n",
       "36518     Potato     5.50    11.079561  80.000000    6.067881\n",
       "36519  Sunflower     6.25    11.455692  80.000000   11.825986\n",
       "\n",
       "[36520 rows x 5 columns]"
      ],
      "text/html": [
       "<div>\n",
       "<style scoped>\n",
       "    .dataframe tbody tr th:only-of-type {\n",
       "        vertical-align: middle;\n",
       "    }\n",
       "\n",
       "    .dataframe tbody tr th {\n",
       "        vertical-align: top;\n",
       "    }\n",
       "\n",
       "    .dataframe thead th {\n",
       "        text-align: right;\n",
       "    }\n",
       "</style>\n",
       "<table border=\"1\" class=\"dataframe\">\n",
       "  <thead>\n",
       "    <tr style=\"text-align: right;\">\n",
       "      <th></th>\n",
       "      <th>Crop_Type</th>\n",
       "      <th>Soil_pH</th>\n",
       "      <th>Temperature</th>\n",
       "      <th>Humidity</th>\n",
       "      <th>Crop_Yield</th>\n",
       "    </tr>\n",
       "  </thead>\n",
       "  <tbody>\n",
       "    <tr>\n",
       "      <th>0</th>\n",
       "      <td>Wheat</td>\n",
       "      <td>5.50</td>\n",
       "      <td>9.440599</td>\n",
       "      <td>80.000000</td>\n",
       "      <td>0.000000</td>\n",
       "    </tr>\n",
       "    <tr>\n",
       "      <th>1</th>\n",
       "      <td>Corn</td>\n",
       "      <td>6.50</td>\n",
       "      <td>20.052576</td>\n",
       "      <td>79.947424</td>\n",
       "      <td>104.871310</td>\n",
       "    </tr>\n",
       "    <tr>\n",
       "      <th>2</th>\n",
       "      <td>Rice</td>\n",
       "      <td>5.50</td>\n",
       "      <td>12.143099</td>\n",
       "      <td>80.000000</td>\n",
       "      <td>0.000000</td>\n",
       "    </tr>\n",
       "    <tr>\n",
       "      <th>3</th>\n",
       "      <td>Barley</td>\n",
       "      <td>6.75</td>\n",
       "      <td>19.751848</td>\n",
       "      <td>80.000000</td>\n",
       "      <td>58.939796</td>\n",
       "    </tr>\n",
       "    <tr>\n",
       "      <th>4</th>\n",
       "      <td>Soybean</td>\n",
       "      <td>5.50</td>\n",
       "      <td>16.110395</td>\n",
       "      <td>80.000000</td>\n",
       "      <td>32.970413</td>\n",
       "    </tr>\n",
       "    <tr>\n",
       "      <th>...</th>\n",
       "      <td>...</td>\n",
       "      <td>...</td>\n",
       "      <td>...</td>\n",
       "      <td>...</td>\n",
       "      <td>...</td>\n",
       "    </tr>\n",
       "    <tr>\n",
       "      <th>36515</th>\n",
       "      <td>Cotton</td>\n",
       "      <td>6.25</td>\n",
       "      <td>19.538555</td>\n",
       "      <td>80.000000</td>\n",
       "      <td>73.323885</td>\n",
       "    </tr>\n",
       "    <tr>\n",
       "      <th>36516</th>\n",
       "      <td>Sugarcane</td>\n",
       "      <td>5.50</td>\n",
       "      <td>21.068336</td>\n",
       "      <td>78.931664</td>\n",
       "      <td>39.226521</td>\n",
       "    </tr>\n",
       "    <tr>\n",
       "      <th>36517</th>\n",
       "      <td>Tomato</td>\n",
       "      <td>6.75</td>\n",
       "      <td>6.030148</td>\n",
       "      <td>80.000000</td>\n",
       "      <td>0.000000</td>\n",
       "    </tr>\n",
       "    <tr>\n",
       "      <th>36518</th>\n",
       "      <td>Potato</td>\n",
       "      <td>5.50</td>\n",
       "      <td>11.079561</td>\n",
       "      <td>80.000000</td>\n",
       "      <td>6.067881</td>\n",
       "    </tr>\n",
       "    <tr>\n",
       "      <th>36519</th>\n",
       "      <td>Sunflower</td>\n",
       "      <td>6.25</td>\n",
       "      <td>11.455692</td>\n",
       "      <td>80.000000</td>\n",
       "      <td>11.825986</td>\n",
       "    </tr>\n",
       "  </tbody>\n",
       "</table>\n",
       "<p>36520 rows × 5 columns</p>\n",
       "</div>"
      ]
     },
     "execution_count": 85,
     "metadata": {},
     "output_type": "execute_result"
    }
   ],
   "execution_count": 85
  },
  {
   "metadata": {
    "ExecuteTime": {
     "end_time": "2024-12-27T15:22:27.993329Z",
     "start_time": "2024-12-27T15:22:27.986965Z"
    }
   },
   "cell_type": "code",
   "source": "df['Crop_Type'].value_counts()",
   "id": "a65ac4f164309f6c",
   "outputs": [
    {
     "data": {
      "text/plain": [
       "Crop_Type\n",
       "Wheat        3652\n",
       "Corn         3652\n",
       "Rice         3652\n",
       "Barley       3652\n",
       "Soybean      3652\n",
       "Cotton       3652\n",
       "Sugarcane    3652\n",
       "Tomato       3652\n",
       "Potato       3652\n",
       "Sunflower    3652\n",
       "Name: count, dtype: int64"
      ]
     },
     "execution_count": 86,
     "metadata": {},
     "output_type": "execute_result"
    }
   ],
   "execution_count": 86
  },
  {
   "metadata": {
    "ExecuteTime": {
     "end_time": "2024-12-27T15:22:27.999566Z",
     "start_time": "2024-12-27T15:22:27.993329Z"
    }
   },
   "cell_type": "code",
   "source": "df['Crop_Type'].nunique()",
   "id": "a609d8f1044307aa",
   "outputs": [
    {
     "data": {
      "text/plain": [
       "10"
      ]
     },
     "execution_count": 87,
     "metadata": {},
     "output_type": "execute_result"
    }
   ],
   "execution_count": 87
  },
  {
   "metadata": {
    "ExecuteTime": {
     "end_time": "2024-12-27T15:22:28.005272Z",
     "start_time": "2024-12-27T15:22:27.999566Z"
    }
   },
   "cell_type": "code",
   "source": "df.columns",
   "id": "8a7690362dbedd09",
   "outputs": [
    {
     "data": {
      "text/plain": [
       "Index(['Crop_Type', 'Soil_pH', 'Temperature', 'Humidity', 'Crop_Yield'], dtype='object')"
      ]
     },
     "execution_count": 88,
     "metadata": {},
     "output_type": "execute_result"
    }
   ],
   "execution_count": 88
  },
  {
   "metadata": {
    "ExecuteTime": {
     "end_time": "2024-12-27T15:22:28.009965Z",
     "start_time": "2024-12-27T15:22:28.005272Z"
    }
   },
   "cell_type": "code",
   "source": [
    "X = df.iloc[:,:-1]\n",
    "y = df.iloc[:,-1]"
   ],
   "id": "ee716dfecd16abbc",
   "outputs": [],
   "execution_count": 89
  },
  {
   "metadata": {
    "ExecuteTime": {
     "end_time": "2024-12-27T15:22:28.017829Z",
     "start_time": "2024-12-27T15:22:28.009965Z"
    }
   },
   "cell_type": "code",
   "source": [
    "from sklearn.model_selection import train_test_split\n",
    "X_train, X_test ,y_train, y_test = train_test_split(X,y,test_size=0.2)"
   ],
   "id": "321f026b774c64ca",
   "outputs": [],
   "execution_count": 90
  },
  {
   "metadata": {
    "ExecuteTime": {
     "end_time": "2024-12-27T15:23:01.949160Z",
     "start_time": "2024-12-27T15:23:01.935884Z"
    }
   },
   "cell_type": "code",
   "source": "X_train.shape, X_test.shape, y_train.shape, y_test.shape",
   "id": "eb5b76f7b806c656",
   "outputs": [
    {
     "data": {
      "text/plain": [
       "((29216, 4), (7304, 4), (29216,), (7304,))"
      ]
     },
     "execution_count": 92,
     "metadata": {},
     "output_type": "execute_result"
    }
   ],
   "execution_count": 92
  },
  {
   "metadata": {
    "ExecuteTime": {
     "end_time": "2024-12-27T15:25:07.908405Z",
     "start_time": "2024-12-27T15:25:07.902822Z"
    }
   },
   "cell_type": "code",
   "source": "X_train.columns",
   "id": "3f5824b8a7245a6d",
   "outputs": [
    {
     "data": {
      "text/plain": [
       "Index(['Crop_Type', 'Soil_pH', 'Temperature', 'Humidity'], dtype='object')"
      ]
     },
     "execution_count": 93,
     "metadata": {},
     "output_type": "execute_result"
    }
   ],
   "execution_count": 93
  },
  {
   "metadata": {
    "ExecuteTime": {
     "end_time": "2024-12-27T15:26:33.597296Z",
     "start_time": "2024-12-27T15:26:33.593804Z"
    }
   },
   "cell_type": "code",
   "source": [
    "transformer = ColumnTransformer(transformers=[\n",
    "    ('trf1',StandardScaler(),['Soil_pH', 'Temperature', 'Humidity']),\n",
    "    ('trf2',OneHotEncoder(sparse=False,drop='first'),['Crop_Type'])\n",
    "],remainder='passthrough')"
   ],
   "id": "5ea5b873c11eef05",
   "outputs": [],
   "execution_count": 94
  },
  {
   "metadata": {
    "ExecuteTime": {
     "end_time": "2024-12-27T15:26:41.814634Z",
     "start_time": "2024-12-27T15:26:41.788837Z"
    }
   },
   "cell_type": "code",
   "source": [
    "X_train_trf = transformer.fit_transform(X_train)\n",
    "X_test_trf = transformer.transform(X_test)"
   ],
   "id": "ca0466fbcaf5cf84",
   "outputs": [
    {
     "name": "stderr",
     "output_type": "stream",
     "text": [
      "C:\\Users\\HP TECHNOLOGY\\anaconda3\\Lib\\site-packages\\sklearn\\preprocessing\\_encoders.py:868: FutureWarning: `sparse` was renamed to `sparse_output` in version 1.2 and will be removed in 1.4. `sparse_output` is ignored unless you leave `sparse` to its default value.\n",
      "  warnings.warn(\n"
     ]
    }
   ],
   "execution_count": 95
  },
  {
   "metadata": {
    "ExecuteTime": {
     "end_time": "2024-12-27T15:27:09.143636Z",
     "start_time": "2024-12-27T15:27:09.057011Z"
    }
   },
   "cell_type": "code",
   "source": [
    "dt = DecisionTreeRegressor()\n",
    "dt.fit(X_train_trf,y_train)"
   ],
   "id": "bd736b7798a0091d",
   "outputs": [
    {
     "data": {
      "text/plain": [
       "DecisionTreeRegressor()"
      ],
      "text/html": [
       "<style>#sk-container-id-1 {color: black;background-color: white;}#sk-container-id-1 pre{padding: 0;}#sk-container-id-1 div.sk-toggleable {background-color: white;}#sk-container-id-1 label.sk-toggleable__label {cursor: pointer;display: block;width: 100%;margin-bottom: 0;padding: 0.3em;box-sizing: border-box;text-align: center;}#sk-container-id-1 label.sk-toggleable__label-arrow:before {content: \"▸\";float: left;margin-right: 0.25em;color: #696969;}#sk-container-id-1 label.sk-toggleable__label-arrow:hover:before {color: black;}#sk-container-id-1 div.sk-estimator:hover label.sk-toggleable__label-arrow:before {color: black;}#sk-container-id-1 div.sk-toggleable__content {max-height: 0;max-width: 0;overflow: hidden;text-align: left;background-color: #f0f8ff;}#sk-container-id-1 div.sk-toggleable__content pre {margin: 0.2em;color: black;border-radius: 0.25em;background-color: #f0f8ff;}#sk-container-id-1 input.sk-toggleable__control:checked~div.sk-toggleable__content {max-height: 200px;max-width: 100%;overflow: auto;}#sk-container-id-1 input.sk-toggleable__control:checked~label.sk-toggleable__label-arrow:before {content: \"▾\";}#sk-container-id-1 div.sk-estimator input.sk-toggleable__control:checked~label.sk-toggleable__label {background-color: #d4ebff;}#sk-container-id-1 div.sk-label input.sk-toggleable__control:checked~label.sk-toggleable__label {background-color: #d4ebff;}#sk-container-id-1 input.sk-hidden--visually {border: 0;clip: rect(1px 1px 1px 1px);clip: rect(1px, 1px, 1px, 1px);height: 1px;margin: -1px;overflow: hidden;padding: 0;position: absolute;width: 1px;}#sk-container-id-1 div.sk-estimator {font-family: monospace;background-color: #f0f8ff;border: 1px dotted black;border-radius: 0.25em;box-sizing: border-box;margin-bottom: 0.5em;}#sk-container-id-1 div.sk-estimator:hover {background-color: #d4ebff;}#sk-container-id-1 div.sk-parallel-item::after {content: \"\";width: 100%;border-bottom: 1px solid gray;flex-grow: 1;}#sk-container-id-1 div.sk-label:hover label.sk-toggleable__label {background-color: #d4ebff;}#sk-container-id-1 div.sk-serial::before {content: \"\";position: absolute;border-left: 1px solid gray;box-sizing: border-box;top: 0;bottom: 0;left: 50%;z-index: 0;}#sk-container-id-1 div.sk-serial {display: flex;flex-direction: column;align-items: center;background-color: white;padding-right: 0.2em;padding-left: 0.2em;position: relative;}#sk-container-id-1 div.sk-item {position: relative;z-index: 1;}#sk-container-id-1 div.sk-parallel {display: flex;align-items: stretch;justify-content: center;background-color: white;position: relative;}#sk-container-id-1 div.sk-item::before, #sk-container-id-1 div.sk-parallel-item::before {content: \"\";position: absolute;border-left: 1px solid gray;box-sizing: border-box;top: 0;bottom: 0;left: 50%;z-index: -1;}#sk-container-id-1 div.sk-parallel-item {display: flex;flex-direction: column;z-index: 1;position: relative;background-color: white;}#sk-container-id-1 div.sk-parallel-item:first-child::after {align-self: flex-end;width: 50%;}#sk-container-id-1 div.sk-parallel-item:last-child::after {align-self: flex-start;width: 50%;}#sk-container-id-1 div.sk-parallel-item:only-child::after {width: 0;}#sk-container-id-1 div.sk-dashed-wrapped {border: 1px dashed gray;margin: 0 0.4em 0.5em 0.4em;box-sizing: border-box;padding-bottom: 0.4em;background-color: white;}#sk-container-id-1 div.sk-label label {font-family: monospace;font-weight: bold;display: inline-block;line-height: 1.2em;}#sk-container-id-1 div.sk-label-container {text-align: center;}#sk-container-id-1 div.sk-container {/* jupyter's `normalize.less` sets `[hidden] { display: none; }` but bootstrap.min.css set `[hidden] { display: none !important; }` so we also need the `!important` here to be able to override the default hidden behavior on the sphinx rendered scikit-learn.org. See: https://github.com/scikit-learn/scikit-learn/issues/21755 */display: inline-block !important;position: relative;}#sk-container-id-1 div.sk-text-repr-fallback {display: none;}</style><div id=\"sk-container-id-1\" class=\"sk-top-container\"><div class=\"sk-text-repr-fallback\"><pre>DecisionTreeRegressor()</pre><b>In a Jupyter environment, please rerun this cell to show the HTML representation or trust the notebook. <br />On GitHub, the HTML representation is unable to render, please try loading this page with nbviewer.org.</b></div><div class=\"sk-container\" hidden><div class=\"sk-item\"><div class=\"sk-estimator sk-toggleable\"><input class=\"sk-toggleable__control sk-hidden--visually\" id=\"sk-estimator-id-1\" type=\"checkbox\" checked><label for=\"sk-estimator-id-1\" class=\"sk-toggleable__label sk-toggleable__label-arrow\">DecisionTreeRegressor</label><div class=\"sk-toggleable__content\"><pre>DecisionTreeRegressor()</pre></div></div></div></div></div>"
      ]
     },
     "execution_count": 96,
     "metadata": {},
     "output_type": "execute_result"
    }
   ],
   "execution_count": 96
  },
  {
   "metadata": {
    "ExecuteTime": {
     "end_time": "2024-12-27T15:27:47.624464Z",
     "start_time": "2024-12-27T15:27:47.598473Z"
    }
   },
   "cell_type": "code",
   "source": [
    "y_pred = dt.predict(X_test_trf)\n",
    "\n",
    "from sklearn.metrics import r2_score\n",
    "r2_score(y_test,y_pred)"
   ],
   "id": "4ecdee023e2e9184",
   "outputs": [
    {
     "data": {
      "text/plain": [
       "0.9589648944048388"
      ]
     },
     "execution_count": 97,
     "metadata": {},
     "output_type": "execute_result"
    }
   ],
   "execution_count": 97
  },
  {
   "metadata": {
    "ExecuteTime": {
     "end_time": "2024-12-27T15:29:03.694414Z",
     "start_time": "2024-12-27T15:28:57.899718Z"
    }
   },
   "cell_type": "code",
   "source": [
    "from sklearn.ensemble import RandomForestRegressor\n",
    "rf = RandomForestRegressor()\n",
    "rf.fit(X_train_trf, y_train)\n",
    "y_pred2 = rf.predict(X_test_trf)\n",
    "\n",
    "from sklearn.metrics import r2_score\n",
    "\n",
    "r2_score(y_test, y_pred2)"
   ],
   "id": "429f7393962205a0",
   "outputs": [
    {
     "data": {
      "text/plain": [
       "0.9718435146867089"
      ]
     },
     "execution_count": 98,
     "metadata": {},
     "output_type": "execute_result"
    }
   ],
   "execution_count": 98
  },
  {
   "metadata": {},
   "cell_type": "code",
   "outputs": [],
   "execution_count": null,
   "source": "",
   "id": "4a5db53a0234c022"
  }
 ],
 "metadata": {
  "kernelspec": {
   "display_name": "Python 3",
   "language": "python",
   "name": "python3"
  },
  "language_info": {
   "codemirror_mode": {
    "name": "ipython",
    "version": 2
   },
   "file_extension": ".py",
   "mimetype": "text/x-python",
   "name": "python",
   "nbconvert_exporter": "python",
   "pygments_lexer": "ipython2",
   "version": "2.7.6"
  }
 },
 "nbformat": 4,
 "nbformat_minor": 5
}
